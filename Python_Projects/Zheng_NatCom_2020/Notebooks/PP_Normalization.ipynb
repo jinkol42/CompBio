{
 "cells": [
  {
   "cell_type": "markdown",
   "id": "95f8a755",
   "metadata": {},
   "source": [
    "## Normalization of Human Head and Neck Squamous Cell Carcinoma samples from *Zheng et al.* in Nature Communications published in 2020. __[(GSE145370)](https://www.ncbi.nlm.nih.gov/geo/query/acc.cgi?acc=GSE145370)__"
   ]
  },
  {
   "cell_type": "markdown",
   "id": "14e55bb2",
   "metadata": {},
   "source": [
    "#### Import the required libraries... this notebook was executed using a HPC to utilize a high power GPU and cut down on time."
   ]
  },
  {
   "cell_type": "code",
   "execution_count": 1,
   "id": "1d7b47d3-826f-403b-a455-7e4f724ba87f",
   "metadata": {},
   "outputs": [
    {
     "name": "stderr",
     "output_type": "stream",
     "text": [
      "Global seed set to 0\n"
     ]
    }
   ],
   "source": [
    "import scanpy as sc\n",
    "import pandas as pd\n",
    "import numpy as np\n",
    "import scvi\n",
    "from scipy.sparse import csr_matrix\n"
   ]
  },
  {
   "cell_type": "markdown",
   "id": "ca90b151",
   "metadata": {},
   "source": [
    "#### Load in our h5ad data from the preprocessing and integration step"
   ]
  },
  {
   "cell_type": "code",
   "execution_count": null,
   "id": "8ed28188-fa3c-4d02-8bb4-c3faf4f61a71",
   "metadata": {},
   "outputs": [],
   "source": [
    "adata_combined = sc.read_h5ad('projects/def-jinkol/SCRNA-Seq/integrated.h5ad')\n",
    "adata_combined.obs_names_make_unique"
   ]
  },
  {
   "cell_type": "markdown",
   "id": "bf8f243d",
   "metadata": {},
   "source": [
    "#### Convert our adata_combined matrix to a csr matrix to avoid using a sparse matrix"
   ]
  },
  {
   "cell_type": "code",
   "execution_count": 5,
   "id": "2f348a03-2a62-44bf-949a-12373db60007",
   "metadata": {},
   "outputs": [],
   "source": [
    "adata_combined.X = csr_matrix(adata_combined.X)"
   ]
  },
  {
   "cell_type": "code",
   "execution_count": 6,
   "id": "601ec8f4-1c82-46ca-ba2a-6dee9b0b4938",
   "metadata": {},
   "outputs": [
    {
     "name": "stderr",
     "output_type": "stream",
     "text": [
      "/tmp/ipykernel_19954/3579044919.py:1: FutureWarning: The default of observed=False is deprecated and will be changed to True in a future version of pandas. Pass observed=False to retain current behavior or observed=True to adopt the future default and silence this warning.\n",
      "  adata_combined.obs.groupby('Sample').count()\n"
     ]
    },
    {
     "data": {
      "text/html": [
       "<div>\n",
       "<style scoped>\n",
       "    .dataframe tbody tr th:only-of-type {\n",
       "        vertical-align: middle;\n",
       "    }\n",
       "\n",
       "    .dataframe tbody tr th {\n",
       "        vertical-align: top;\n",
       "    }\n",
       "\n",
       "    .dataframe thead th {\n",
       "        text-align: right;\n",
       "    }\n",
       "</style>\n",
       "<table border=\"1\" class=\"dataframe\">\n",
       "  <thead>\n",
       "    <tr style=\"text-align: right;\">\n",
       "      <th></th>\n",
       "      <th>n_genes</th>\n",
       "      <th>n_genes_by_counts</th>\n",
       "      <th>total_counts</th>\n",
       "      <th>total_counts_mt</th>\n",
       "      <th>pct_counts_mt</th>\n",
       "    </tr>\n",
       "    <tr>\n",
       "      <th>Sample</th>\n",
       "      <th></th>\n",
       "      <th></th>\n",
       "      <th></th>\n",
       "      <th></th>\n",
       "      <th></th>\n",
       "    </tr>\n",
       "  </thead>\n",
       "  <tbody>\n",
       "    <tr>\n",
       "      <th>Normal</th>\n",
       "      <td>40928</td>\n",
       "      <td>40928</td>\n",
       "      <td>40928</td>\n",
       "      <td>40928</td>\n",
       "      <td>40928</td>\n",
       "    </tr>\n",
       "    <tr>\n",
       "      <th>Tumor</th>\n",
       "      <td>65099</td>\n",
       "      <td>65099</td>\n",
       "      <td>65099</td>\n",
       "      <td>65099</td>\n",
       "      <td>65099</td>\n",
       "    </tr>\n",
       "  </tbody>\n",
       "</table>\n",
       "</div>"
      ],
      "text/plain": [
       "        n_genes  n_genes_by_counts  total_counts  total_counts_mt  \\\n",
       "Sample                                                              \n",
       "Normal    40928              40928         40928            40928   \n",
       "Tumor     65099              65099         65099            65099   \n",
       "\n",
       "        pct_counts_mt  \n",
       "Sample                 \n",
       "Normal          40928  \n",
       "Tumor           65099  "
      ]
     },
     "execution_count": 6,
     "metadata": {},
     "output_type": "execute_result"
    }
   ],
   "source": [
    "adata_combined.obs.groupby('Sample').count()"
   ]
  },
  {
   "cell_type": "code",
   "execution_count": 7,
   "id": "636cbce1-4d22-46af-84bc-fe976a232815",
   "metadata": {},
   "outputs": [],
   "source": [
    "adata_combined.layers['Counts'] = adata_combined.X.copy()"
   ]
  },
  {
   "cell_type": "markdown",
   "id": "638f81c5",
   "metadata": {},
   "source": [
    "#### Here we use scvi-tools to normalize our count data. SCVI uses variational inference to learn both model parameters and to approximate a posterior distribution. First we have to train the model."
   ]
  },
  {
   "cell_type": "code",
   "execution_count": 9,
   "id": "d34275c7-767a-4d8e-8d2a-0868fcafe0fd",
   "metadata": {},
   "outputs": [
    {
     "name": "stderr",
     "output_type": "stream",
     "text": [
      "/cvmfs/soft.computecanada.ca/easybuild/software/2020/avx2/Core/python/3.10.2/lib/python3.10/abc.py:119: FutureWarning: SparseDataset is deprecated and will be removed in late 2024. It has been replaced by the public classes CSRDataset and CSCDataset.\n",
      "\n",
      "For instance checks, use `isinstance(X, (anndata.experimental.CSRDataset, anndata.experimental.CSCDataset))` instead.\n",
      "\n",
      "For creation, use `anndata.experimental.sparse_dataset(X)` instead.\n",
      "\n",
      "  return _abc_instancecheck(cls, instance)\n",
      "CUDA backend failed to initialize: Found CUDA version 11070, but JAX was built against version 11080, which is newer. The copy of CUDA that is installed must be at least as new as the version against which JAX was built. (Set TF_CPP_MIN_LOG_LEVEL=0 and rerun for more info.)\n",
      "GPU available: True, used: True\n",
      "TPU available: False, using: 0 TPU cores\n",
      "IPU available: False, using: 0 IPUs\n",
      "LOCAL_RANK: 0 - CUDA_VISIBLE_DEVICES: [0]\n",
      "Set SLURM handle signals.\n"
     ]
    },
    {
     "name": "stdout",
     "output_type": "stream",
     "text": [
      "Epoch 1/75:   0%|          | 0/75 [00:00<?, ?it/s]"
     ]
    },
    {
     "name": "stderr",
     "output_type": "stream",
     "text": [
      "/cvmfs/soft.computecanada.ca/easybuild/software/2020/avx2/Core/python/3.10.2/lib/python3.10/abc.py:119: FutureWarning: SparseDataset is deprecated and will be removed in late 2024. It has been replaced by the public classes CSRDataset and CSCDataset.\n",
      "\n",
      "For instance checks, use `isinstance(X, (anndata.experimental.CSRDataset, anndata.experimental.CSCDataset))` instead.\n",
      "\n",
      "For creation, use `anndata.experimental.sparse_dataset(X)` instead.\n",
      "\n",
      "  return _abc_instancecheck(cls, instance)\n"
     ]
    },
    {
     "name": "stdout",
     "output_type": "stream",
     "text": [
      "Epoch 75/75: 100%|██████████| 75/75 [18:50<00:00, 15.08s/it, loss=3.58e+03, v_num=1]\n"
     ]
    }
   ],
   "source": [
    "scvi.model.SCVI.setup_anndata(adata_combined, layer = 'Counts',\n",
    "                              categorical_covariate_keys=['Sample'],\n",
    "                              continuous_covariate_keys=['pct_counts_mt', 'total_counts'])\n",
    "\n",
    "model=scvi.model.SCVI(adata_combined)\n",
    "model.train()"
   ]
  },
  {
   "cell_type": "markdown",
   "id": "dba8ebfc",
   "metadata": {},
   "source": [
    "#### Here we pass the latent representation of our model (mean of the variational distribution to approximate the posteriror distribution  of the latent representation *zi* for cell *i*) to a multidimensional array"
   ]
  },
  {
   "cell_type": "code",
   "execution_count": 10,
   "id": "19f714b5-06aa-4fcd-ab73-dd2d2133bea7",
   "metadata": {},
   "outputs": [],
   "source": [
    "adata_combined.obsm['X_scVI'] = model.get_latent_representation()"
   ]
  },
  {
   "cell_type": "markdown",
   "id": "b4c53b3c",
   "metadata": {},
   "source": [
    "#### Here we use the model we trained earlier to normalize counts to 10,000 and pass it to its own layer."
   ]
  },
  {
   "cell_type": "code",
   "execution_count": 11,
   "id": "16359d47-3139-4581-b7ec-071cf2026925",
   "metadata": {},
   "outputs": [],
   "source": [
    "adata_combined.layers['scvi_normalized'] = model.get_normalized_expression(library_size = 1e4)"
   ]
  },
  {
   "cell_type": "markdown",
   "id": "f08abfd4",
   "metadata": {},
   "source": [
    "#### We can now use this to calculater nearest neighbours which is useful for clustering/dimensionality reduction visualization later"
   ]
  },
  {
   "cell_type": "code",
   "execution_count": 12,
   "id": "84e8df55-81c1-4173-83df-bbc5ab4e7598",
   "metadata": {},
   "outputs": [
    {
     "name": "stderr",
     "output_type": "stream",
     "text": [
      "/home/swalsh02/jupyter_py3/lib/python3.10/site-packages/umap/distances.py:1063: NumbaDeprecationWarning: The 'nopython' keyword argument was not supplied to the 'numba.jit' decorator. The implicit default value for this argument is currently False, but it will be changed to True in Numba 0.59.0. See https://numba.readthedocs.io/en/stable/reference/deprecation.html#deprecation-of-object-mode-fall-back-behaviour-when-using-jit for details.\n",
      "  @numba.jit()\n",
      "/home/swalsh02/jupyter_py3/lib/python3.10/site-packages/umap/distances.py:1071: NumbaDeprecationWarning: The 'nopython' keyword argument was not supplied to the 'numba.jit' decorator. The implicit default value for this argument is currently False, but it will be changed to True in Numba 0.59.0. See https://numba.readthedocs.io/en/stable/reference/deprecation.html#deprecation-of-object-mode-fall-back-behaviour-when-using-jit for details.\n",
      "  @numba.jit()\n",
      "/home/swalsh02/jupyter_py3/lib/python3.10/site-packages/umap/distances.py:1086: NumbaDeprecationWarning: The 'nopython' keyword argument was not supplied to the 'numba.jit' decorator. The implicit default value for this argument is currently False, but it will be changed to True in Numba 0.59.0. See https://numba.readthedocs.io/en/stable/reference/deprecation.html#deprecation-of-object-mode-fall-back-behaviour-when-using-jit for details.\n",
      "  @numba.jit()\n",
      "/home/swalsh02/jupyter_py3/lib/python3.10/site-packages/pynndescent/utils.py:205: NumbaDeprecationWarning: The 'nopython' keyword argument was not supplied to the 'numba.jit' decorator. The implicit default value for this argument is currently False, but it will be changed to True in Numba 0.59.0. See https://numba.readthedocs.io/en/stable/reference/deprecation.html#deprecation-of-object-mode-fall-back-behaviour-when-using-jit for details.\n",
      "  @numba.jit(\n",
      "/home/swalsh02/jupyter_py3/lib/python3.10/site-packages/pynndescent/utils.py:304: NumbaDeprecationWarning: The 'nopython' keyword argument was not supplied to the 'numba.jit' decorator. The implicit default value for this argument is currently False, but it will be changed to True in Numba 0.59.0. See https://numba.readthedocs.io/en/stable/reference/deprecation.html#deprecation-of-object-mode-fall-back-behaviour-when-using-jit for details.\n",
      "  @numba.jit(\n",
      "/home/swalsh02/jupyter_py3/lib/python3.10/site-packages/umap/umap_.py:660: NumbaDeprecationWarning: The 'nopython' keyword argument was not supplied to the 'numba.jit' decorator. The implicit default value for this argument is currently False, but it will be changed to True in Numba 0.59.0. See https://numba.readthedocs.io/en/stable/reference/deprecation.html#deprecation-of-object-mode-fall-back-behaviour-when-using-jit for details.\n",
      "  @numba.jit()\n"
     ]
    }
   ],
   "source": [
    "sc.pp.neighbors(adata_combined, use_rep = 'X_scVI')"
   ]
  },
  {
   "cell_type": "markdown",
   "id": "65aaaa5b",
   "metadata": {},
   "source": [
    "#### Export our integrated and normalized data to analyze and visualize"
   ]
  },
  {
   "cell_type": "code",
   "execution_count": 14,
   "id": "566c1af0-4024-4566-88dd-97964f4e2254",
   "metadata": {},
   "outputs": [],
   "source": [
    "adata_combined.write_h5ad('normalized_scvi.h5ad')"
   ]
  }
 ],
 "metadata": {
  "kernelspec": {
   "display_name": "Python 3 (ipykernel)",
   "language": "python",
   "name": "python3"
  },
  "language_info": {
   "codemirror_mode": {
    "name": "ipython",
    "version": 3
   },
   "file_extension": ".py",
   "mimetype": "text/x-python",
   "name": "python",
   "nbconvert_exporter": "python",
   "pygments_lexer": "ipython3",
   "version": "3.10.2"
  }
 },
 "nbformat": 4,
 "nbformat_minor": 5
}
